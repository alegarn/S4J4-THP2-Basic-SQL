{
 "cells": [
  {
   "cell_type": "markdown",
   "metadata": {},
   "source": [
    "# Basic SQL \n",
    "\n",
    "A simple database to be able to write simple SQL statements.\n",
    "\n",
    "### SQL Statements: get the informations\n",
    "\n",
    "Only one SQL statement / information!\n",
    "\n",
    "# Fresh Database:\n",
    "- https://github.com/lerocha/chinook-database/tree/master/ChinookDatabase/DataSources (Chinook_Sqlite.sql)"
   ]
  },
  {
   "cell_type": "code",
   "execution_count": null,
   "metadata": {},
   "outputs": [],
   "source": [
    "# sqlite connector in Python\n",
    "import sqlite3"
   ]
  },
  {
   "cell_type": "code",
   "execution_count": null,
   "metadata": {},
   "outputs": [],
   "source": [
    "def sqlite_table_schema(conn, name):\n",
    "    \"\"\"Return a string representing the table's CREATE\"\"\"\n",
    "    cursor = conn.execute(\"SELECT sql FROM sqlite_master WHERE name=?;\", [name])\n",
    "    sql = cursor.fetchone()[0]\n",
    "    cursor.close()\n",
    "    return sql\n",
    "\n",
    "# the database connection\n",
    "with sqlite3.connect('chinook.db') as conn:\n",
    "    print(\"Opened database successfully\")\n",
    "\n",
    "# all tables\n",
    "    cursor = conn.execute(\"SELECT name FROM sqlite_master WHERE type='table';\")\n",
    "    table_names = []\n",
    "    for row in cursor:\n",
    "        table_names.append(row)\n",
    "        \n",
    "#https://www.alixaprodev.com/2022/03/python-to-get-database-column-names.html\n",
    "    for row in table_names:\n",
    "        \n",
    "        # https://www.delftstack.com/howto/python/tuple-to-string-python/\n",
    "        transform = ''.join(row)\n",
    "        \n",
    "        exe = \"SELECT * FROM {};\"\n",
    "        cursor = conn.execute(exe.format(transform))\n",
    "        names = list(map(lambda x: x[0], cursor.description))\n",
    "        print(\"\\nNom de la table: \" + transform + \"\\n\")\n",
    "        print(\"A complete table scheme : \")\n",
    "        print(sqlite_table_schema(conn, transform), \"\\n\")\n",
    "        print(\" Et voici chaque colonnes:\")\n",
    "        for columns in names:\n",
    "            print(\" - \" + str(columns))\n",
    "    print(\"Operation done successfully\")"
   ]
  },
  {
   "cell_type": "markdown",
   "metadata": {},
   "source": [
    "# Afficher tous les albums\n",
    "\n",
    "# Display all albums"
   ]
  },
  {
   "cell_type": "code",
   "execution_count": null,
   "metadata": {},
   "outputs": [],
   "source": [
    "with sqlite3.connect('chinook.db') as conn:\n",
    "    cursor = conn.execute(\"SELECT Title FROM albums;\")\n",
    "    #names = list(map(lambda x: x[0], cursor.description))\n",
    "    print(\"Albums:\")\n",
    "    for row in cursor:\n",
    "        print(row)\n",
    "# The SQL: SELECT * FROM albums;"
   ]
  },
  {
   "cell_type": "markdown",
   "metadata": {},
   "source": [
    "# Display all the albums with \"Great\" in title\n",
    "\n",
    "# Récupérer tous les albums dont le titre contient \"Great\""
   ]
  },
  {
   "cell_type": "code",
   "execution_count": null,
   "metadata": {},
   "outputs": [],
   "source": [
    "with sqlite3.connect('chinook.db') as conn:\n",
    "    cursor = conn.execute(\"SELECT Title FROM albums WHERE Title LIKE '%Great%';\")\n",
    "    for row in cursor:\n",
    "        print(\"Album title: \", row[0])\n"
   ]
  },
  {
   "cell_type": "markdown",
   "metadata": {},
   "source": [
    "# Give the total album's number in database (but not looking at the Id with sqlite3 GUI)\n",
    "\n",
    "# Donner le nombre total d'albums contenus dans la base (sans regarder les id bien sûr)"
   ]
  },
  {
   "cell_type": "code",
   "execution_count": null,
   "metadata": {},
   "outputs": [],
   "source": [
    "with sqlite3.connect(\"chinook.db\") as conn:\n",
    "    cursor = conn.execute(\"SELECT COUNT(AlbumId) FROM albums;\")\n",
    "    print(\"Dans la base de données on a \" + str(cursor.fetchall()[0][0]) + \" albums.\")"
   ]
  },
  {
   "cell_type": "markdown",
   "metadata": {},
   "source": [
    "# Delete containing \"music\" in the title albums\n",
    "\n",
    "# Supprimer tous les albums dont le nom contient \"music\""
   ]
  },
  {
   "cell_type": "code",
   "execution_count": null,
   "metadata": {},
   "outputs": [],
   "source": [
    "with sqlite3.connect(\"chinook.db\") as conn:\n",
    "    cursor = conn.execute(\"SELECT Title FROM albums WHERE Title LIKE '%music'\")\n",
    "    for row in cursor:\n",
    "        print(row[0])\n",
    "    try:\n",
    "        cursor = conn.execute(\"DELETE FROM albums WHERE Title LIKE '%music'\")\n",
    "        cursor = conn.execute(\"SELECT Title FROM albums WHERE Title LIKE '%music'\")\n",
    "        print(cursor.fetchall()[0][0])\n",
    "    except:\n",
    "        print(\"error\")\n",
    "\n",
    "# DELETE FROM albums WHERE Title LIKE '%music' DEFERRABLE INITIALLY DEFERRED FOREIGN KEY; ?"
   ]
  },
  {
   "cell_type": "markdown",
   "metadata": {},
   "source": [
    "# AC/CD albums in the database\n",
    "\n",
    "# Récupérer tous les albums écrits par AC/DC"
   ]
  },
  {
   "cell_type": "code",
   "execution_count": null,
   "metadata": {},
   "outputs": [],
   "source": [
    "with sqlite3.connect(\"chinook.db\") as conn:\n",
    "    cursor = conn.execute(\"SELECT Title FROM albums INNER JOIN artists ON albums.ArtistId = artists.ArtistId WHERE name LIKE '%AC/DC';\")\n",
    "    for row in cursor:\n",
    "        print(row[0])\n",
    "\n",
    "# Or this method:\n",
    "# SELECT * FROM albums NATURAL JOIN artists WHERE name = 'AC/DC' -> les colonnes ont le même nom\n",
    "# SQL natural join: here it's only possible because in 'albums' and 'artists' tables, \n",
    "# they have a column who's named 'ArtistID', now it's possible to select rows with 'AC/DC' (for 'name''s column) \n"
   ]
  },
  {
   "cell_type": "markdown",
   "metadata": {},
   "source": [
    "# AC/DC's album's titles\n",
    "\n",
    "# Récupérer tous les titres des albums de AC/DC"
   ]
  },
  {
   "cell_type": "code",
   "execution_count": null,
   "metadata": {},
   "outputs": [],
   "source": [
    "with sqlite3.connect(\"chinook.db\") as conn:\n",
    "    cursor = conn.execute(\"SELECT tracks.name FROM artists INNER JOIN albums ON albums.ArtistId = artists.ArtistId INNER JOIN tracks ON albums.AlbumId = tracks.AlbumId WHERE artists.Name LIKE '%AC/DC';\")\n",
    "    for row in cursor:\n",
    "        print(row[0])\n",
    "\n",
    "# Differents methods:\n",
    "\n",
    "#SELECT tracks.Name from tracks where tracks.AlbumId in (SELECT AlbumId from albums natural join artists where artists.Name = 'AC/DC')\n",
    "\n",
    "#SELECT * FROM albums, artists, tracks WHERE albums.ArtistId = artists.ArtistId AND albums.AlbumId = tracks.AlbumId AND artists.Name ='AC/DC';\n",
    "\n",
    "#SELECT tracks.Name\n",
    "#FROM albums, artists, tracks\n",
    "#WHERE albums.ArtistId = artists.ArtistId AND artists.Name = 'AC/DC' AND albums.AlbumId = tracks.AlbumId"
   ]
  },
  {
   "cell_type": "markdown",
   "metadata": {},
   "source": [
    "# \"Let There Be Rock\" titles list\n",
    "\n",
    "# Récupérer la liste des titres de l'album \"Let There Be Rock\""
   ]
  },
  {
   "cell_type": "code",
   "execution_count": null,
   "metadata": {},
   "outputs": [],
   "source": [
    "with sqlite3.connect(\"chinook.db\") as conn:\n",
    "    cursor = conn.execute(\"SELECT tracks.Name from albums natural join tracks where albums.Title = 'Let There Be Rock';\")\n",
    "    for row in cursor:\n",
    "        print(row[0])\n",
    "        \n",
    "\n",
    "# Alternatives:         \n",
    "        \n",
    "#SELECT tracks.name \n",
    "#FROM albums \n",
    "#INNER JOIN tracks ON albums.AlbumId = tracks.AlbumId \n",
    "#WHERE albums.Title LIKE '%Let%There%be%Rock%';\n",
    "\n",
    "\n",
    "#SELECT Title, Name \n",
    "#FROM albums, tracks \n",
    "#WHERE albums.AlbumId = tracks.AlbumId AND Title LIKE \"Let There Be Rock\";\n",
    "\n",
    "#SELECT tracks.Name\n",
    "#FROM albums, artists, tracks\n",
    "#WHERE\n",
    "#  albums.ArtistId = artists.ArtistId AND\n",
    "#  artists.Name = 'AC/DC' AND\n",
    "#  albums.AlbumId = tracks.AlbumId AND\n",
    "#  albums.AlbumId = 4"
   ]
  },
  {
   "cell_type": "markdown",
   "metadata": {},
   "source": [
    "# Display the price of the album and duration\n",
    "\n",
    "# Afficher le prix de cet album ainsi que sa durée totale"
   ]
  },
  {
   "cell_type": "code",
   "execution_count": null,
   "metadata": {},
   "outputs": [],
   "source": [
    "with sqlite3.connect(\"chinook.db\") as conn:\n",
    "    cursor = conn.execute(\"SELECT SUM(tracks.UnitPrice), SUM(tracks.Milliseconds) FROM albums NATURAL JOIN tracks WHERE albums.Title = 'Let There Be Rock';\")\n",
    "    for row in cursor:\n",
    "        print(\"Price: \" + str(row[0]) + \"Pound\")\n",
    "        print(\"Duration: \" + str(row[1]) + \" Milliseconds\")\n",
    "\n",
    "        \n",
    "# Alternatives:         \n",
    "\n",
    "#SELECT sum(tracks.UnitPrice), sum(tracks.Milliseconds)\n",
    "#FROM albums\n",
    "#INNER JOIN tracks ON albums.AlbumId = tracks.AlbumId \n",
    "#WHERE albums.Title LIKE '%Let%There%be%Rock%' ;\n",
    "\n",
    "\n",
    "#SELECT \n",
    "  #albums.Title,\n",
    "  #sum (tracks.UnitPrice),\n",
    "  #sum (tracks.Milliseconds)\n",
    "#FROM albums, artists, tracks\n",
    "#WHERE\n",
    "#  albums.ArtistId = artists.ArtistId AND\n",
    "#  artists.Name = 'AC/DC' AND\n",
    "#  albums.AlbumId = tracks.AlbumId and\n",
    "#  albums.AlbumId = 4\n",
    "#GROUP BY albums.AlbumId\n",
    "\n",
    "\n"
   ]
  },
  {
   "cell_type": "markdown",
   "metadata": {},
   "source": [
    "# Cost of Deep Purple's total discography\n",
    "\n",
    "# Afficher le coût de l'intégralité de la discographie de \"Deep Purple\""
   ]
  },
  {
   "cell_type": "code",
   "execution_count": null,
   "metadata": {},
   "outputs": [],
   "source": [
    "with sqlite3.connect(\"chinook.db\") as conn:\n",
    "    cursor = conn.execute(\"SELECT SUM(tracks.UnitPrice) FROM artists INNER JOIN albums ON albums.ArtistId = artists.ArtistId INNER JOIN tracks ON albums.AlbumId = tracks.AlbumId  WHERE artists.Name LIKE '%Deep%Purple';\")\n",
    "    for row in cursor:\n",
    "        print(\"Discography total price: \" + str(row[0]) + \" Pounds\")\n",
    "        \n",
    "\n"
   ]
  },
  {
   "cell_type": "markdown",
   "metadata": {},
   "source": [
    "# Make one album, artists, tracks of your favorite artist\n",
    "\n",
    "# Créer l'album de ton artiste favori en base, en renseignant correctement les trois tables albums, artists et tracks"
   ]
  },
  {
   "cell_type": "code",
   "execution_count": null,
   "metadata": {},
   "outputs": [],
   "source": [
    "with sqlite3.connect(\"chinook.db\") as conn:\n",
    "    cursor = conn.execute(\"INSERT INTO artists (name) VALUES ('Nightwish');\") \n",
    "    cursor = conn.execute(\"INSERT INTO albums (Title, ArtistId) VALUES ('Once',  (SELECT ArtistId FROM artists WHERE name='Nightwish'));\")\n",
    "    cursor = conn.execute(\"INSERT INTO tracks (name,Milliseconds, UnitPrice, AlbumId, MediaTypeId, GenreId) VALUES ('Ghost Love Score', 602000, 0.99,(SELECT AlbumId FROM albums WHERE Title='Once'), (SELECT MediaTypeId FROM media_types WHERE name='AAC audio file'),(SELECT GenreId FROM genres WHERE name='Metal')) ;\")\n",
    "    cursor = conn.execute(\"SELECT name, Milliseconds FROM tracks WHERE Milliseconds LIKE '602000';\")\n",
    "    for row in cursor:\n",
    "        print(row[0])\n",
    "\n",
    " \n",
    "# Alternatives: \n",
    "#INSERT INTO albums (AlbumId, Title, ArtistId) VALUES(348, \"(What's the Story) Morning Glory?\", 276);\n",
    "#INSERT INTO artists (ArtistId, Name) VALUES(276, \"OASIS\");\n",
    "#INSERT INTO tracks (TrackId, Name, AlbumId, MediaTypeID, GenreID, Composer, Milliseconds, Bytes, UnitPrice) VALUES(3504, \"Hello\", 348, 0, 0, \"Noel Gallagher\", 201000, 0, 0.00);\n",
    "#INSERT INTO tracks (TrackId, Name, AlbumId, MediaTypeID, GenreID, Composer, Milliseconds, Bytes, UnitPrice) VALUES(3505, \"Roll with It\", 348, 0, 0, \"Noel Gallagher\", 201000, 0, 0.00);\n",
    "#INSERT INTO tracks (TrackId, Name, AlbumId, MediaTypeID, GenreID, Composer, Milliseconds, Bytes, UnitPrice) VALUES(3506, \"Wonderwall\", 348, 0, 0, \"Noel Gallagher\", 201000, 0, 0.00);\n",
    "#\n",
    "#INSERT INTO artists(Name) VALUES ('Laylow'); \n",
    "#INSERT INTO albums(Title, ArtistId) VALUES ('Etrange histoire de Mr.Anderson', (SELECT ArtistId from artists where Name = 'Laylow')); \n",
    "#INSERT INTO tracks(Name, MediaTypeId, Milliseconds, UnitPrice, AlbumId) VALUES ('Special', 1, 0, 0, (SELECT AlbumId from albums where Title = 'Etrange histoire de Mr.Anderson'));"
   ]
  },
  {
   "cell_type": "code",
   "execution_count": null,
   "metadata": {},
   "outputs": [],
   "source": []
  }
 ],
 "metadata": {
  "kernelspec": {
   "display_name": "Python 3 (ipykernel)",
   "language": "python",
   "name": "python3"
  },
  "language_info": {
   "codemirror_mode": {
    "name": "ipython",
    "version": 3
   },
   "file_extension": ".py",
   "mimetype": "text/x-python",
   "name": "python",
   "nbconvert_exporter": "python",
   "pygments_lexer": "ipython3",
   "version": "3.9.7"
  }
 },
 "nbformat": 4,
 "nbformat_minor": 2
}
