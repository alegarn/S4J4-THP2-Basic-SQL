{
 "cells": [
  {
   "cell_type": "markdown",
   "metadata": {},
   "source": [
    "Voici la liste de questions auxquelles tu dois répondre :\n",
    "\n",
    "    \n",
    "    \n",
    "    Combien la base contient-elle de bénéficiaires avec un nom unique ? Quel est le bénéficiaire dont le nom revient le plus souvent ?\n",
    "    Donner la liste des juridictions avec le nombre d'entreprises offshores enregistrées sur chaque territoire, triée par ordre décroissant.\n",
    "    Regrouper les sociétés offshores par statut, et trier la liste par ordre décroissant.\n",
    "    Trouver la liste des bénéficiaires dont le nom contient \"BNP\" et ajouter, pour chaque bénéficiaire, le nom des sociétés offshores.\n",
    "    Trouver la liste des sociétés dont la juridiction est \"France\", \"Monaco\" ou \"Réunion\".\n",
    "    Trouver la liste des sociétés dont le pays de l'adresse et le pays de la juridiction sont différents.\n",
    "    Trouver la liste des bénéficiaires qui ont des sociétés au même nom et enregistrée à la même date, trier la liste par odre décroissant.\n",
    "    Donner la liste des intermédiaires qui ont aussi été bénéficiaires, en ajoutant leur nom de bénéficiaire et leur adresse.\n",
    "    Donner le top 10 des bénéficiaires qui ont le plus d'identités différentes (similar name and address) et le nombre d'identités correspondant.\n",
    "    Donner le top 10 des bénéficiaires qui ont le plus de parts toujours valides dans des entreprises offshores (dont la date de fin n'est pas encore passée).\n",
    "    Question bonus : réussir à retrouver dans la base au moins 3 personnalités que tu connais (indice) 😎😎😎\n"
   ]
  },
  {
   "cell_type": "code",
   "execution_count": null,
   "metadata": {},
   "outputs": [],
   "source": []
  },
  {
   "cell_type": "markdown",
   "metadata": {},
   "source": [
    "# Combien la base de données contient-elle de sociétés offshores différentes dont la source est \"Panama Papers\" ?"
   ]
  },
  {
   "cell_type": "code",
   "execution_count": null,
   "metadata": {},
   "outputs": [],
   "source": [
    "SELECT count(entity.source) FROM entity WHERE source like 'Panama%Papers'; "
   ]
  },
  {
   "cell_type": "markdown",
   "metadata": {},
   "source": [
    "# Quel intermédiaire a créé le plus de sociétés offshores ? A-t-on son adresse et son pays ?"
   ]
  },
  {
   "cell_type": "code",
   "execution_count": null,
   "metadata": {},
   "outputs": [],
   "source": [
    "\n",
    "SELECT name, max(nbr)\n",
    "FROM (\n",
    "    SELECT DISTINCT intermediary.name, count(*) as nbr\n",
    "    FROM entity \n",
    "    INNER JOIN  assoc_inter_entity on entity.id = assoc_inter_entity.entity\n",
    "\tINNER JOIN intermediary on assoc_inter_entity.inter = intermediary.id\n",
    "    GROUP BY entity.name\n",
    "\thaving count(intermediary.name)\n",
    "\t);\n",
    "\n",
    "SELECT \n",
    "\ti.name,\n",
    "\ti.id,\n",
    "\te.name,\n",
    "\tcount(*)\n",
    "FROM \n",
    "\tentity e,\n",
    "\tassoc_inter_entity a,\n",
    "\tintermediary i \n",
    "WHERE\n",
    "\ta.entity = e.id AND\n",
    "\ta.inter = i.id\n",
    "GROUP BY  i.id, i.name\n",
    "ORDER BY count(*) DESC;"
   ]
  }
 ],
 "metadata": {
  "kernelspec": {
   "display_name": "Python 3 (ipykernel)",
   "language": "python",
   "name": "python3"
  },
  "language_info": {
   "codemirror_mode": {
    "name": "ipython",
    "version": 3
   },
   "file_extension": ".py",
   "mimetype": "text/x-python",
   "name": "python",
   "nbconvert_exporter": "python",
   "pygments_lexer": "ipython3",
   "version": "3.7.0"
  }
 },
 "nbformat": 4,
 "nbformat_minor": 2
}
