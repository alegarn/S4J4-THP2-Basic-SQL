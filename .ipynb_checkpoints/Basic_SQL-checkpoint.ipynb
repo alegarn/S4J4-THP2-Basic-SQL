{
 "cells": [
  {
   "cell_type": "markdown",
   "metadata": {},
   "source": [
    "### Rédige les requêtes SQL permettant d'obtenir les informations ci-dessous. \n",
    "\n",
    "Consigne importante : la requête doit se faire en une seule ligne de SQL et ne doit pas s'appuyer sur d'autres requêtes (notamment pas les requêtes précédentes).\n"
   ]
  },
  {
   "cell_type": "markdown",
   "metadata": {},
   "source": [
    "# Récupérer tous les albums"
   ]
  },
  {
   "cell_type": "code",
   "execution_count": null,
   "metadata": {},
   "outputs": [],
   "source": [
    "SELECT * FROM albums;"
   ]
  },
  {
   "cell_type": "markdown",
   "metadata": {},
   "source": [
    "# Récupérer tous les albums dont le titre contient \"Great\" (indice)"
   ]
  },
  {
   "cell_type": "code",
   "execution_count": null,
   "metadata": {},
   "outputs": [],
   "source": [
    "SELECT * FROM albums WHERE Title LIKE '%Great%';"
   ]
  },
  {
   "cell_type": "markdown",
   "metadata": {},
   "source": [
    "# Donner le nombre total d'albums contenus dans la base (sans regarder les id bien sûr)"
   ]
  },
  {
   "cell_type": "code",
   "execution_count": null,
   "metadata": {},
   "outputs": [],
   "source": [
    "SELECT * FROM albums SUM;"
   ]
  },
  {
   "cell_type": "markdown",
   "metadata": {},
   "source": [
    "# Supprimer tous les albums dont le nom contient \"music\""
   ]
  },
  {
   "cell_type": "code",
   "execution_count": null,
   "metadata": {},
   "outputs": [],
   "source": [
    "DELETE FROM albums WHERE Title LIKE '%music' DEFERRABLE INITIALLY DEFERRED FOREIGN KEY;"
   ]
  },
  {
   "cell_type": "markdown",
   "metadata": {},
   "source": [
    "# Récupérer tous les albums écrits par AC/DC"
   ]
  },
  {
   "cell_type": "code",
   "execution_count": null,
   "metadata": {},
   "outputs": [],
   "source": [
    "SELECT Title \n",
    "FROM albums \n",
    "INNER JOIN artists \n",
    "ON albums.ArtistId = artists.ArtistId \n",
    "WHERE name LIKE '%AC/DC';"
   ]
  },
  {
   "cell_type": "markdown",
   "metadata": {},
   "source": [
    "# Récupérer tous les titres des albums de AC/DC"
   ]
  },
  {
   "cell_type": "code",
   "execution_count": null,
   "metadata": {},
   "outputs": [],
   "source": [
    "SELECT tracks.name\n",
    "FROM artists\n",
    "INNER JOIN albums ON albums.ArtistId = artists.ArtistId\n",
    "INNER JOIN tracks ON albums.AlbumId = tracks.AlbumId \n",
    "WHERE artists.Name LIKE '%AC/DC';"
   ]
  },
  {
   "cell_type": "markdown",
   "metadata": {},
   "source": [
    "# Récupérer la liste des titres de l'album \"Let There Be Rock\""
   ]
  },
  {
   "cell_type": "code",
   "execution_count": null,
   "metadata": {},
   "outputs": [],
   "source": [
    "SELECT tracks.name\n",
    "FROM albums\n",
    "INNER JOIN tracks ON albums.AlbumId = tracks.AlbumId \n",
    "WHERE albums.Title LIKE '%Let%There%be%Rock%';"
   ]
  },
  {
   "cell_type": "markdown",
   "metadata": {},
   "source": [
    "# Afficher le prix de cet album ainsi que sa durée totale"
   ]
  },
  {
   "cell_type": "code",
   "execution_count": null,
   "metadata": {},
   "outputs": [],
   "source": [
    "SELECT sum(tracks.UnitPrice)\n",
    "FROM albums\n",
    "INNER JOIN tracks ON albums.AlbumId = tracks.AlbumId \n",
    "WHERE albums.Title LIKE '%Let%There%be%Rock%' ;"
   ]
  },
  {
   "cell_type": "markdown",
   "metadata": {},
   "source": [
    "# Afficher le coût de l'intégralité de la discographie de \"Deep Purple\""
   ]
  },
  {
   "cell_type": "code",
   "execution_count": null,
   "metadata": {},
   "outputs": [],
   "source": [
    "SELECT SUM(tracks.UnitPrice)\n",
    "FROM artists\n",
    "INNER JOIN albums ON albums.ArtistId = artists.ArtistId\n",
    "INNER JOIN tracks ON albums.AlbumId = tracks.AlbumId \n",
    "WHERE artists.Name LIKE '%Deep%Purple';"
   ]
  },
  {
   "cell_type": "markdown",
   "metadata": {},
   "source": [
    "# Créer l'album de ton artiste favori en base, en renseignant correctement les trois tables albums, artists et tracks"
   ]
  },
  {
   "cell_type": "code",
   "execution_count": null,
   "metadata": {},
   "outputs": [],
   "source": [
    "INSERT INTO artists (name)\n",
    "VALUES (\"Nightwish\"); \n",
    "INSERT INTO albums (Title, ArtistId)\n",
    "VALUES (\"Once\",  (SELECT ArtistId FROM artists WHERE name='Nightwish'));\n",
    "INSERT INTO tracks (name,Milliseconds, UnitPrice, AlbumId, MediaTypeId, GenreId)\n",
    "VALUES (\"Ghost Love Score\", 602000, 0.99,(SELECT AlbumId FROM albums WHERE Title='Once'), (SELECT MediaTypeId FROM media_types WHERE name='AAC audio file'),(SELECT GenreId FROM genres WHERE name='Metal')) ; \n",
    "\n"
   ]
  }
 ],
 "metadata": {
  "kernelspec": {
   "display_name": "Python 3 (ipykernel)",
   "language": "python",
   "name": "python3"
  },
  "language_info": {
   "codemirror_mode": {
    "name": "ipython",
    "version": 3
   },
   "file_extension": ".py",
   "mimetype": "text/x-python",
   "name": "python",
   "nbconvert_exporter": "python",
   "pygments_lexer": "ipython3",
   "version": "3.7.0"
  }
 },
 "nbformat": 4,
 "nbformat_minor": 2
}
