{
 "cells": [
  {
   "cell_type": "markdown",
   "metadata": {},
   "source": [
    "Voici la liste de questions auxquelles tu dois répondre :\n",
    "\n",
    "    Question bonus : réussir à retrouver dans la base au moins 3 personnalités que tu connais (indice) 😎😎😎\n"
   ]
  },
  {
   "cell_type": "code",
   "execution_count": null,
   "metadata": {},
   "outputs": [],
   "source": [
    "import sqlite3\n",
    "\n",
    "conn = sqlite3.connect('database_sqlite3/panamapapers.sqlite3')\n",
    "print(\"Opened database successfully\")"
   ]
  },
  {
   "cell_type": "markdown",
   "metadata": {},
   "source": [
    "# Combien la base de données contient-elle de sociétés offshores différentes dont la source est \"Panama Papers\" ?"
   ]
  },
  {
   "cell_type": "code",
   "execution_count": null,
   "metadata": {},
   "outputs": [],
   "source": [
    "SELECT \n",
    "    count(entity.source) \n",
    "FROM \n",
    "    entity \n",
    "WHERE source \n",
    "    LIKE 'Panama%Papers'; \n",
    "\n",
    "SELECT \n",
    "    DISTINCT COUNT(source) id\n",
    "FROM \n",
    "    entity \n",
    "WHERE \n",
    "    source = \"Panama Papers\";\n",
    "\n",
    "SELECT COUNT (DISTINCT name) FROM entity WHERE entity.source = 'Panama Papers' AND entity.name IS not NULL"
   ]
  },
  {
   "cell_type": "markdown",
   "metadata": {},
   "source": [
    "# Quel intermédiaire a créé le plus de sociétés offshores ? A-t-on son adresse et son pays ?"
   ]
  },
  {
   "cell_type": "code",
   "execution_count": null,
   "metadata": {},
   "outputs": [],
   "source": [
    "SELECT \n",
    "\ti.name,\n",
    "\ti.id,\n",
    "\te.name,\n",
    "\tcount(*)\n",
    "FROM \n",
    "\tentity e,\n",
    "\tassoc_inter_entity a,\n",
    "\tintermediary i \n",
    "WHERE\n",
    "\ta.entity = e.id AND\n",
    "\ta.inter = i.id\n",
    "GROUP BY  i.id, i.name\n",
    "ORDER BY count(*) DESC LIMIT 1; -> pas d'adressse et pays\n",
    "\n",
    "SELECT\n",
    "  intermediary.name,\n",
    "  address.address,\n",
    "  address.country_codes,\n",
    "  count()\n",
    "FROM intermediary, address, assoc_inter_entity\n",
    "WHERE \n",
    "  intermediary.id_address = address.id_address and\n",
    "  assoc_inter_entity.inter = intermediary.id\n",
    "GROUP BY intermediary.id\n",
    "ORDER BY COUNT () DESC LIMIT 1"
   ]
  },
  {
   "cell_type": "markdown",
   "metadata": {},
   "source": [
    "Donovan LEFRANCOIS / F. LEGOUEZ"
   ]
  },
  {
   "cell_type": "markdown",
   "metadata": {},
   "source": [
    "# Combien la base contient-elle de bénéficiaires avec un nom unique ? Quel est le bénéficiaire dont le nom revient le plus souvent ?"
   ]
  },
  {
   "cell_type": "code",
   "execution_count": null,
   "metadata": {},
   "outputs": [],
   "source": [
    "SELECT COUNT(DISTINCT name) FROM officer;\n",
    "SELECT name FROM officer GROUP BY name ORDER BY COUNT( * ) DESC LIMIT 1;"
   ]
  },
  {
   "cell_type": "markdown",
   "metadata": {},
   "source": [
    "# Donner la liste des juridictions avec le nombre d'entreprises offshores enregistrées sur chaque territoire, triée par ordre décroissant."
   ]
  },
  {
   "cell_type": "code",
   "execution_count": null,
   "metadata": {},
   "outputs": [],
   "source": [
    "SELECT entity.jurisdiction_description, count(*)\n",
    "FROM entity\n",
    "GROUP BY entity.jurisdiction_description\n",
    "ORDER BY COUNT (entity.jurisdiction_description) DESC;\n",
    "\n",
    "SELECT entity.jurisdiction, entity.jurisdiction_description,\n",
    "count(*) as nb_entity\n",
    "FROM entity\n",
    "GROUP BY jurisdiction\n",
    "ORDER BY nb_entity DESC"
   ]
  },
  {
   "cell_type": "markdown",
   "metadata": {},
   "source": [
    "# Regrouper les sociétés offshores par statut, et trier la liste par ordre décroissant."
   ]
  },
  {
   "cell_type": "code",
   "execution_count": null,
   "metadata": {},
   "outputs": [],
   "source": [
    "SELECT entity.status, count(*)\n",
    "FROM entity\n",
    "GROUP BY entity.status\n",
    "ORDER BY COUNT (entity.status) DESC;"
   ]
  },
  {
   "cell_type": "markdown",
   "metadata": {},
   "source": [
    "# Trouver la liste des bénéficiaires dont le nom contient \"BNP\" et ajouter, pour chaque bénéficiaire, le nom des sociétés offshores."
   ]
  },
  {
   "cell_type": "code",
   "execution_count": null,
   "metadata": {
    "scrolled": true
   },
   "outputs": [],
   "source": [
    "SELECT \n",
    "  officer.name,\n",
    "  entity.name,\n",
    "  count(*)\n",
    "FROM officer, assoc_officer_entity, entity\n",
    "WHERE \n",
    "  officer.name LIKE '%BNP%'  and\n",
    "  officer.id = assoc_officer_entity.officer and\n",
    "  assoc_officer_entity.entity = entity.id GROUP BY officer "
   ]
  },
  {
   "cell_type": "markdown",
   "metadata": {},
   "source": [
    "# Trouver la liste des sociétés dont la juridiction est \"France\", \"Monaco\" ou \"Réunion\"."
   ]
  },
  {
   "cell_type": "code",
   "execution_count": null,
   "metadata": {},
   "outputs": [],
   "source": [
    "SELECT entity.name, entity.jurisdiction, entity.jurisdiction_description\n",
    "FROM entity\n",
    "WHERE entity.jurisdiction_description LIKE '%France%' OR entity.jurisdiction_description LIKE '%Monaco%' OR entity.jurisdiction_description LIKE '%Reunion%'"
   ]
  },
  {
   "cell_type": "markdown",
   "metadata": {},
   "source": [
    "# Trouver la liste des sociétés dont le pays de l'adresse et le pays de la juridiction sont différents."
   ]
  },
  {
   "cell_type": "code",
   "execution_count": null,
   "metadata": {},
   "outputs": [],
   "source": [
    "SELECT \n",
    "  entity.name,\n",
    "  entity.jurisdiction,\n",
    "  address.countries\n",
    "FROM entity, address\n",
    "WHERE \n",
    "  entity.id_address=address.id_address and\n",
    "  entity.jurisdiction!=address.countries"
   ]
  },
  {
   "cell_type": "markdown",
   "metadata": {},
   "source": [
    "# Trouver la liste des bénéficiaires qui ont des sociétés au même nom et enregistrée à la même date, trier la liste par odre décroissant."
   ]
  },
  {
   "cell_type": "code",
   "execution_count": null,
   "metadata": {},
   "outputs": [],
   "source": [
    "SELECT\n",
    "  officer.name,\n",
    "  count (*)\n",
    "FROM officer, assoc_officer_entity, entity, assoc_entities\n",
    "WHERE\n",
    "  officer.id = assoc_officer_entity.officer and\n",
    "  assoc_officer_entity.entity = entity.id and\n",
    "  entity.id = assoc_entities.entity1\n",
    "GROUP BY officer.name\n",
    "ORDER BY COUNT(officer.name) DESC"
   ]
  },
  {
   "cell_type": "markdown",
   "metadata": {},
   "source": [
    "# Donner la liste des intermédiaires qui ont aussi été bénéficiaires, en ajoutant leur nom de bénéficiaire et leur adresse."
   ]
  },
  {
   "cell_type": "code",
   "execution_count": null,
   "metadata": {},
   "outputs": [],
   "source": [
    "SELECT\n",
    "  intermediary.name,\n",
    "  officer.name,\n",
    "  address.address\n",
    "FROM officer, assoc_inter_offi, intermediary, address\n",
    "WHERE\n",
    "  officer.id = assoc_inter_offi.officer and\n",
    "  assoc_inter_offi.inter = intermediary.id and\n",
    "  intermediary.id_address = address.id_address"
   ]
  },
  {
   "cell_type": "markdown",
   "metadata": {},
   "source": [
    "# Donner le top 10 des bénéficiaires qui ont le plus d'identités différentes (similar name and address) et le nombre d'identités correspondant."
   ]
  },
  {
   "cell_type": "code",
   "execution_count": null,
   "metadata": {},
   "outputs": [],
   "source": [
    "SELECT\n",
    "    officer.name,\n",
    "    count(*)    \n",
    "    FROM assoc_officers, officer\n",
    "    WHERE\n",
    "      assoc_officers.assoc_type = \"similar name and address as\" and\n",
    "      assoc_officers.officer1 = officer.id\n",
    "    GROUP BY assoc_officers.officer1\n",
    "    ORDER BY COUNT (*) DESC LIMIT 10."
   ]
  },
  {
   "cell_type": "markdown",
   "metadata": {},
   "source": [
    "# Donner le top 10 des bénéficiaires qui ont le plus de parts toujours valides dans des entreprises offshores (dont la date de fin n'est pas encore passée)."
   ]
  },
  {
   "cell_type": "code",
   "execution_count": null,
   "metadata": {},
   "outputs": [],
   "source": [
    "SELECT\n",
    "      officer.name,\n",
    "      count(*)  \n",
    "    FROM entity, officer, assoc_officer_entity\n",
    "    WHERE\n",
    "      officer.id = assoc_officer_entity.officer and\n",
    "      assoc_officer_entity.entity = entity.id and\n",
    "      entity.status = \"Active\"\n",
    "    GROUP BY officer.id\n",
    "    ORDER BY COUNT (*) DESC LIMIT 10."
   ]
  }
 ],
 "metadata": {
  "kernelspec": {
   "display_name": "Python 3 (ipykernel)",
   "language": "python",
   "name": "python3"
  },
  "language_info": {
   "codemirror_mode": {
    "name": "ipython",
    "version": 3
   },
   "file_extension": ".py",
   "mimetype": "text/x-python",
   "name": "python",
   "nbconvert_exporter": "python",
   "pygments_lexer": "ipython3",
   "version": "3.9.7"
  }
 },
 "nbformat": 4,
 "nbformat_minor": 2
}
